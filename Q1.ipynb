{
 "cells": [
  {
   "cell_type": "markdown",
   "id": "82a5e4ef",
   "metadata": {},
   "source": [
    "### Shopify Data Science Internship Test\n",
    "\n",
    "By: Vedang Anand Waradpande\n",
    "\n",
    "MS CS student at Rutgers University\n",
    "\n",
    "Contact: +1 848 437 1822\n",
    "\n",
    "Email: vedang.waradpande@gmail.com\n",
    "\n",
    "#### Solution\n",
    "\n",
    "Q1.\n",
    "   \n",
    "a. There are several outliers in the data where the order price is much higher than the general range that order amounts fall into (about 90 to 1000).\n",
    "\n",
    "The value `3145.13` is the mean of all orders in the month, which is highly skewed because of the outliers.\n",
    "\n",
    "b. There are much better ways to calculate the AOV. For e.g.:\n",
    "\n",
    "- Median of median of each shop\n",
    "- By removing the outliers in the following ways:\n",
    "    * Remove outliers over the 99th percentile and below the 1st percentile ($\\mu \\pm 3\\sigma$)\n",
    "    * Don't consider shops with very high order amounts in general\n",
    "    * Don't consider users with very high order amounts in general\n",
    "    \n",
    "The best metric would be median of median of each shop\n",
    "\n",
    "c. The value of the best metric is `306.0`."
   ]
  },
  {
   "cell_type": "code",
   "execution_count": 99,
   "id": "e7770382",
   "metadata": {},
   "outputs": [
    {
     "data": {
      "text/plain": [
       "(5000, 7)"
      ]
     },
     "execution_count": 99,
     "metadata": {},
     "output_type": "execute_result"
    }
   ],
   "source": [
    "import pandas as pd\n",
    "import matplotlib.pyplot as plt\n",
    "\n",
    "df = pd.read_csv(\"data/2019 Winter Data Science Intern Challenge Data Set - Sheet1.csv\")\n",
    "df.shape"
   ]
  },
  {
   "cell_type": "code",
   "execution_count": 100,
   "id": "ba731f8f",
   "metadata": {},
   "outputs": [
    {
     "data": {
      "text/plain": [
       "(Timestamp('2017-03-01 00:08:09'), Timestamp('2017-03-30 23:55:35'))"
      ]
     },
     "execution_count": 100,
     "metadata": {},
     "output_type": "execute_result"
    }
   ],
   "source": [
    "df['created_at'] = pd.to_datetime(df['created_at'])\n",
    "df['created_at'].min(), df['created_at'].max()"
   ]
  },
  {
   "cell_type": "code",
   "execution_count": 101,
   "id": "fb295e6f",
   "metadata": {},
   "outputs": [
    {
     "data": {
      "text/plain": [
       "3136.834087887025"
      ]
     },
     "execution_count": 101,
     "metadata": {},
     "output_type": "execute_result"
    }
   ],
   "source": [
    "df.groupby('shop_id').agg({'order_amount': 'mean'})['order_amount'].mean()"
   ]
  },
  {
   "cell_type": "code",
   "execution_count": 102,
   "id": "0be8d1e9",
   "metadata": {},
   "outputs": [
    {
     "data": {
      "text/plain": [
       "count      5000.000000\n",
       "mean       3145.128000\n",
       "std       41282.539349\n",
       "min          90.000000\n",
       "25%         163.000000\n",
       "50%         284.000000\n",
       "75%         390.000000\n",
       "max      704000.000000\n",
       "Name: order_amount, dtype: float64"
      ]
     },
     "execution_count": 102,
     "metadata": {},
     "output_type": "execute_result"
    }
   ],
   "source": [
    "df['order_amount'].describe()"
   ]
  },
  {
   "cell_type": "code",
   "execution_count": 103,
   "id": "7bef2c2e",
   "metadata": {},
   "outputs": [
    {
     "data": {
      "text/plain": [
       "0.750       390.00\n",
       "0.800       444.00\n",
       "0.900       531.00\n",
       "0.925       568.00\n",
       "0.950       640.00\n",
       "0.975       760.00\n",
       "0.980       800.08\n",
       "0.985       948.18\n",
       "0.990     25725.00\n",
       "0.999    704000.00\n",
       "1.000    704000.00\n",
       "Name: order_amount, dtype: float64"
      ]
     },
     "execution_count": 103,
     "metadata": {},
     "output_type": "execute_result"
    }
   ],
   "source": [
    "df['order_amount'].quantile(q=[0.75, 0.80, 0.90, 0.925, 0.95, 0.975, 0.98, 0.985, 0.99, 0.999, 1.0])"
   ]
  },
  {
   "cell_type": "markdown",
   "id": "11234ae5",
   "metadata": {},
   "source": [
    "The idea in the next few cells is that we can try to remove credit cards as well because the mean amount in credit cards is very high. However, this is not feasible because credit cards constitute roughly 34.7% of the order traffic."
   ]
  },
  {
   "cell_type": "code",
   "execution_count": 104,
   "id": "53a916ab",
   "metadata": {},
   "outputs": [
    {
     "data": {
      "text/html": [
       "<div>\n",
       "<style scoped>\n",
       "    .dataframe tbody tr th:only-of-type {\n",
       "        vertical-align: middle;\n",
       "    }\n",
       "\n",
       "    .dataframe tbody tr th {\n",
       "        vertical-align: top;\n",
       "    }\n",
       "\n",
       "    .dataframe thead th {\n",
       "        text-align: right;\n",
       "    }\n",
       "</style>\n",
       "<table border=\"1\" class=\"dataframe\">\n",
       "  <thead>\n",
       "    <tr style=\"text-align: right;\">\n",
       "      <th></th>\n",
       "      <th>order_amount</th>\n",
       "    </tr>\n",
       "    <tr>\n",
       "      <th>payment_method</th>\n",
       "      <th></th>\n",
       "    </tr>\n",
       "  </thead>\n",
       "  <tbody>\n",
       "    <tr>\n",
       "      <th>cash</th>\n",
       "      <td>730.353199</td>\n",
       "    </tr>\n",
       "    <tr>\n",
       "      <th>credit_card</th>\n",
       "      <td>7461.594813</td>\n",
       "    </tr>\n",
       "    <tr>\n",
       "      <th>debit</th>\n",
       "      <td>966.840215</td>\n",
       "    </tr>\n",
       "  </tbody>\n",
       "</table>\n",
       "</div>"
      ],
      "text/plain": [
       "                order_amount\n",
       "payment_method              \n",
       "cash              730.353199\n",
       "credit_card      7461.594813\n",
       "debit             966.840215"
      ]
     },
     "execution_count": 104,
     "metadata": {},
     "output_type": "execute_result"
    }
   ],
   "source": [
    "df.groupby('payment_method').agg({'order_amount': 'mean'})"
   ]
  },
  {
   "cell_type": "code",
   "execution_count": 115,
   "id": "3fa09bbe",
   "metadata": {},
   "outputs": [
    {
     "data": {
      "text/plain": [
       "credit_card    0.3470\n",
       "debit          0.3342\n",
       "cash           0.3188\n",
       "Name: payment_method, dtype: float64"
      ]
     },
     "execution_count": 115,
     "metadata": {},
     "output_type": "execute_result"
    }
   ],
   "source": [
    "df['payment_method'].value_counts(normalize=True)"
   ]
  },
  {
   "cell_type": "markdown",
   "id": "eda473fa",
   "metadata": {},
   "source": [
    "#### Mean of medians of shops"
   ]
  },
  {
   "cell_type": "code",
   "execution_count": 114,
   "id": "b614fab5",
   "metadata": {},
   "outputs": [
    {
     "data": {
      "text/plain": [
       "306.0"
      ]
     },
     "execution_count": 114,
     "metadata": {},
     "output_type": "execute_result"
    }
   ],
   "source": [
    "df.groupby('shop_id').agg({'order_amount': 'median'})['order_amount'].median()"
   ]
  },
  {
   "cell_type": "code",
   "execution_count": 107,
   "id": "1da7095c",
   "metadata": {},
   "outputs": [
    {
     "data": {
      "image/png": "[encoded data removed]",
      "text/plain": [
       "<Figure size 432x288 with 1 Axes>"
      ]
     },
     "metadata": {
      "needs_background": "light"
     },
     "output_type": "display_data"
    }
   ],
   "source": [
    "df.groupby('user_id').agg({'order_amount': 'mean'})['order_amount'].hist(bins=100)\n",
    "plt.show()"
   ]
  },
  {
   "cell_type": "code",
   "execution_count": 110,
   "id": "132f117e",
   "metadata": {},
   "outputs": [
    {
     "data": {
      "text/plain": [
       "0.01      101.0\n",
       "0.99    25725.0\n",
       "Name: order_amount, dtype: float64"
      ]
     },
     "execution_count": 110,
     "metadata": {},
     "output_type": "execute_result"
    }
   ],
   "source": [
    "df['order_amount'].quantile([0.01, 0.99])"
   ]
  },
  {
   "cell_type": "markdown",
   "id": "9f27400b",
   "metadata": {},
   "source": [
    "#### Mean after outlier removal"
   ]
  },
  {
   "cell_type": "code",
   "execution_count": 113,
   "id": "20369a7c",
   "metadata": {},
   "outputs": [
    {
     "data": {
      "text/plain": [
       "305.0532896085263"
      ]
     },
     "execution_count": 113,
     "metadata": {},
     "output_type": "execute_result"
    }
   ],
   "source": [
    "first_quantile = df['order_amount'].quantile([0.01, 0.99])[0.01]\n",
    "ninety_ninth_quantile = df['order_amount'].quantile([0.01, 0.99])[0.99]\n",
    "\n",
    "df[(df['order_amount'] > first_quantile) & (df['order_amount'] < ninety_ninth_quantile)]['order_amount'].mean()"
   ]
  }
 ],
 "metadata": {
  "kernelspec": {
   "display_name": "Python 3",
   "language": "python",
   "name": "python3"
  },
  "language_info": {
   "codemirror_mode": {
    "name": "ipython",
    "version": 3
   },
   "file_extension": ".py",
   "mimetype": "text/x-python",
   "name": "python",
   "nbconvert_exporter": "python",
   "pygments_lexer": "ipython3",
   "version": "3.8.8"
  }
 },
 "nbformat": 4,
 "nbformat_minor": 5
}
